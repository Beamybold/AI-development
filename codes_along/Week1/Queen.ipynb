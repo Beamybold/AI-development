{
 "cells": [
  {
   "cell_type": "markdown",
   "id": "5d60c07b",
   "metadata": {},
   "source": [
    "print (\"Hello world, I am learning python\")\n"
   ]
  }
 ],
 "metadata": {
  "language_info": {
   "name": "python"
  }
 },
 "nbformat": 4,
 "nbformat_minor": 5
}
